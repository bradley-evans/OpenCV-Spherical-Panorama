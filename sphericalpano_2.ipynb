{
 "cells": [
  {
   "cell_type": "code",
   "execution_count": 70,
   "metadata": {
    "collapsed": true,
    "inputHidden": false,
    "outputExpanded": false,
    "outputHidden": false
   },
   "outputs": [],
   "source": [
    "# import the necessary packages\n",
    "import numpy as np\n",
    "import imutils\n",
    "import cv2\n",
    "import argparse\n",
    "import os\n",
    "\n",
    "# stuff just for IPython\n",
    "from IPython.display import display\n",
    "from IPython.display import Image\n",
    "from matplotlib import pyplot as plt\n",
    "from skimage import filters\n",
    "%matplotlib inline"
   ]
  },
  {
   "cell_type": "markdown",
   "metadata": {},
   "source": [
    "### Stitcher class\n",
    "\n",
    "This is a class provided by OpenCV that achieves basic left-to-right stitching."
   ]
  },
  {
   "cell_type": "code",
   "execution_count": 71,
   "metadata": {
    "collapsed": true
   },
   "outputs": [],
   "source": [
    "class Stitcher:\n",
    "\tdef __init__(self):\n",
    "\t\t# determine if we are using OpenCV v3.X\n",
    "\t\tself.isv3 = imutils.is_cv3()\n",
    "\n",
    "\tdef stitch(self, images, ratio=0.75, reprojThresh=4.0,\n",
    "\t\tshowMatches=False):\n",
    "\t\t# unpack the images, then detect keypoints and extract\n",
    "\t\t# local invariant descriptors from them\n",
    "\t\t(imageB, imageA) = images\n",
    "\t\t(kpsA, featuresA) = self.detectAndDescribe(imageA)\n",
    "\t\t(kpsB, featuresB) = self.detectAndDescribe(imageB)\n",
    "\n",
    "\t\t# match features between the two images\n",
    "\t\tM = self.matchKeypoints(kpsA, kpsB,\n",
    "\t\t\tfeaturesA, featuresB, ratio, reprojThresh)\n",
    "\n",
    "\t\t# if the match is None, then there aren't enough matched\n",
    "\t\t# keypoints to create a panorama\n",
    "\t\tif M is None:\n",
    "\t\t\treturn None\n",
    "\n",
    "\t\t# otherwise, apply a perspective warp to stitch the images\n",
    "\t\t# together\n",
    "\t\t(matches, H, status) = M\n",
    "\t\tresult = cv2.warpPerspective(imageA, H,\n",
    "\t\t\t(imageA.shape[1] + imageB.shape[1], imageA.shape[0]))\n",
    "\t\tresult[0:imageB.shape[0], 0:imageB.shape[1]] = imageB\n",
    "\n",
    "\t\t# check to see if the keypoint matches should be visualized\n",
    "\t\tif showMatches:\n",
    "\t\t\tvis = self.drawMatches(imageA, imageB, kpsA, kpsB, matches,\n",
    "\t\t\t\tstatus)\n",
    "\n",
    "\t\t\t# return a tuple of the stitched image and the\n",
    "\t\t\t# visualization\n",
    "\t\t\treturn (result, vis)\n",
    "\n",
    "\t\t# return the stitched image\n",
    "\t\treturn result\n",
    "\n",
    "\tdef detectAndDescribe(self, image):\n",
    "\t\t# convert the image to grayscale\n",
    "\t\tgray = cv2.cvtColor(image, cv2.COLOR_BGR2GRAY)\n",
    "\n",
    "\t\t# check to see if we are using OpenCV 3.X\n",
    "\t\tif self.isv3:\n",
    "\t\t\t# detect and extract features from the image\n",
    "\t\t\tdescriptor = cv2.xfeatures2d.SIFT_create()\n",
    "\t\t\t(kps, features) = descriptor.detectAndCompute(image, None)\n",
    "\n",
    "\t\t# otherwise, we are using OpenCV 2.4.X\n",
    "\t\telse:\n",
    "\t\t\t# detect keypoints in the image\n",
    "\t\t\tdetector = cv2.FeatureDetector_create(\"SIFT\")\n",
    "\t\t\tkps = detector.detect(gray)\n",
    "\n",
    "\t\t\t# extract features from the image\n",
    "\t\t\textractor = cv2.DescriptorExtractor_create(\"SIFT\")\n",
    "\t\t\t(kps, features) = extractor.compute(gray, kps)\n",
    "\n",
    "\t\t# convert the keypoints from KeyPoint objects to NumPy\n",
    "\t\t# arrays\n",
    "\t\tkps = np.float32([kp.pt for kp in kps])\n",
    "\n",
    "\t\t# return a tuple of keypoints and features\n",
    "\t\treturn (kps, features)\n",
    "\n",
    "\tdef matchKeypoints(self, kpsA, kpsB, featuresA, featuresB,\n",
    "\t\tratio, reprojThresh):\n",
    "\t\t# compute the raw matches and initialize the list of actual\n",
    "\t\t# matches\n",
    "\t\tmatcher = cv2.DescriptorMatcher_create(\"BruteForce\")\n",
    "\t\trawMatches = matcher.knnMatch(featuresA, featuresB, 2)\n",
    "\t\tmatches = []\n",
    "\n",
    "\t\t# loop over the raw matches\n",
    "\t\tfor m in rawMatches:\n",
    "\t\t\t# ensure the distance is within a certain ratio of each\n",
    "\t\t\t# other (i.e. Lowe's ratio test)\n",
    "\t\t\tif len(m) == 2 and m[0].distance < m[1].distance * ratio:\n",
    "\t\t\t\tmatches.append((m[0].trainIdx, m[0].queryIdx))\n",
    "\n",
    "\t\t# computing a homography requires at least 4 matches\n",
    "\t\tif len(matches) > 4:\n",
    "\t\t\t# construct the two sets of points\n",
    "\t\t\tptsA = np.float32([kpsA[i] for (_, i) in matches])\n",
    "\t\t\tptsB = np.float32([kpsB[i] for (i, _) in matches])\n",
    "\n",
    "\t\t\t# compute the homography between the two sets of points\n",
    "\t\t\t(H, status) = cv2.findHomography(ptsB, ptsA, cv2.RANSAC,\n",
    "\t\t\t\treprojThresh)\n",
    "\n",
    "\t\t\t# return the matches along with the homograpy matrix\n",
    "\t\t\t# and status of each matched point\n",
    "\t\t\treturn (matches, H, status)\n",
    "\n",
    "\t\t# otherwise, no homograpy could be computed\n",
    "\t\treturn None\n",
    "\n",
    "\tdef drawMatches(self, imageA, imageB, kpsA, kpsB, matches, status):\n",
    "\t\t# initialize the output visualization image\n",
    "\t\t(hA, wA) = imageA.shape[:2]\n",
    "\t\t(hB, wB) = imageB.shape[:2]\n",
    "\t\tvis = np.zeros((max(hA, hB), wA + wB, 3), dtype=\"uint8\")\n",
    "\t\tvis[0:hA, 0:wA] = imageA\n",
    "\t\tvis[0:hB, wA:] = imageB\n",
    "\n",
    "\t\t# loop over the matches\n",
    "\t\tfor ((trainIdx, queryIdx), s) in zip(matches, status):\n",
    "\t\t\t# only process the match if the keypoint was successfully\n",
    "\t\t\t# matched\n",
    "\t\t\tif s == 1:\n",
    "\t\t\t\t# draw the match\n",
    "\t\t\t\tptA = (int(kpsA[queryIdx][0]), int(kpsA[queryIdx][1]))\n",
    "\t\t\t\tptB = (int(kpsB[trainIdx][0]) + wA, int(kpsB[trainIdx][1]))\n",
    "\t\t\t\tcv2.line(vis, ptA, ptB, (0, 255, 0), 1)\n",
    "\n",
    "\t\t# return the visualization\n",
    "\t\treturn vis"
   ]
  },
  {
   "cell_type": "code",
   "execution_count": 92,
   "metadata": {
    "collapsed": true
   },
   "outputs": [],
   "source": [
    "def choose_homography(img1,img2,H):\n",
    "    result = cv2.warpPerspective(img2, H,\n",
    "                                (img1.shape[0] + 2*img2.shape[0], 2*img2.shape[1]+img1.shape[1]))\n",
    "    img1_bin = cv2.threshold(img1,0,1,cv2.THRESH_BINARY_INV)[1]\n",
    "    result[0:img1.shape[0], 0:img1.shape[1]] = result[0:img1.shape[0], 0:img1.shape[1]]*img1_bin+img1\n",
    "\n",
    "    for r in range(0,result.shape[0]):\n",
    "        if not sum(result[r,:,0]):\n",
    "            r_bound =r;\n",
    "            break\n",
    "    for c in range(0,result.shape[1]):\n",
    "        if not sum(result[:,c,0]):\n",
    "            c_bound =c;\n",
    "            break\n",
    "    if c == result.shape[1]-1:\n",
    "        c_bound = c\n",
    "    if r == result.shape[0]-1:\n",
    "        r_bound = r\n",
    "            \n",
    "    return result[0:r_bound,0:c_bound]"
   ]
  },
  {
   "cell_type": "code",
   "execution_count": 93,
   "metadata": {
    "collapsed": true
   },
   "outputs": [],
   "source": [
    "get_fnames = lambda f_name: list(map(lambda x:f_name+x,os.listdir(f_name)))\n",
    "get_img_set = lambda f_names:[cv2.imread(name) for name in get_fnames(f_names)]\n",
    "scale_img_set = lambda scale:[cv2.res]"
   ]
  },
  {
   "cell_type": "code",
   "execution_count": 100,
   "metadata": {
    "collapsed": true
   },
   "outputs": [],
   "source": [
    "img_set = get_img_set('test2/')"
   ]
  },
  {
   "cell_type": "code",
   "execution_count": 97,
   "metadata": {
    "inputHidden": false,
    "outputExpanded": false,
    "outputHidden": false
   },
   "outputs": [],
   "source": [
    "# test sequence 2: run stitcher on two images #\n",
    "stitcher = Stitcher()\n",
    "img = img_set[0]\n",
    "for j in range(1,6):\n",
    "    kp1,f1 = stitcher.detectAndDescribe(img)\n",
    "    kp2,f2 = stitcher.detectAndDescribe(img_set[j])\n",
    "    M = stitcher.matchKeypoints(kp1, kp2, f1, f2,0.75,4)\n",
    "    (matches, H, status) = M\n",
    "    img = choose_homography(img,img_set[j],H)"
   ]
  },
  {
   "cell_type": "code",
   "execution_count": 99,
   "metadata": {},
   "outputs": [
    {
     "data": {
      "text/plain": [
       "True"
      ]
     },
     "execution_count": 99,
     "metadata": {},
     "output_type": "execute_result"
    }
   ],
   "source": [
    "cv2.imwrite('end.jpg',img)"
   ]
  }
 ],
 "metadata": {
  "gist_id": "6c9d2d136e1975f39e73f6504aa9a966",
  "kernel_info": {
   "name": "python3"
  },
  "kernelspec": {
   "display_name": "Python 3",
   "language": "python",
   "name": "python3"
  },
  "language_info": {
   "codemirror_mode": {
    "name": "ipython",
    "version": 3
   },
   "file_extension": ".py",
   "mimetype": "text/x-python",
   "name": "python",
   "nbconvert_exporter": "python",
   "pygments_lexer": "ipython3",
   "version": "3.6.1"
  },
  "nteract": {
   "version": "0.7.1"
  }
 },
 "nbformat": 4,
 "nbformat_minor": 4
}
